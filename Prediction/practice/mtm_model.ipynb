{
 "cells": [
  {
   "cell_type": "code",
   "execution_count": 267,
   "metadata": {},
   "outputs": [],
   "source": [
    "import warnings\n",
    "import yfinance as yf\n",
    "from yahoofinancials import YahooFinancials\n",
    "import FinanceDataReader as fdr\n",
    "import pandas as pd\n",
    "import numpy as np\n",
    "import matplotlib.pyplot as plt\n",
    "import tensorflow as tf\n",
    "from keras.models import Sequential, Model\n",
    "from keras.layers import Dense, LSTM, Dropout, Flatten, Input, concatenate, BatchNormalization\n",
    "from keras.optimizers import SGD, Adam\n",
    "from sklearn.preprocessing import MinMaxScaler\n",
    "from keras.metrics import MeanSquaredError\n",
    "\n",
    "# from keras.callbacks import TensorBoard, ModelCheckpoint, ReduceLROnPlateau\n",
    "import math\n",
    "warnings.filterwarnings('ignore')"
   ]
  },
  {
   "cell_type": "code",
   "execution_count": 268,
   "metadata": {},
   "outputs": [],
   "source": [
    "tf.compat.v1.reset_default_graph() "
   ]
  },
  {
   "cell_type": "code",
   "execution_count": 269,
   "metadata": {},
   "outputs": [
    {
     "name": "stdout",
     "output_type": "stream",
     "text": [
      "1.5.2\n",
      "2.11.0\n",
      "1.21.5\n"
     ]
    }
   ],
   "source": [
    "print(pd.__version__)\n",
    "print(tf.__version__)\n",
    "print(np.__version__)"
   ]
  },
  {
   "cell_type": "code",
   "execution_count": 270,
   "metadata": {},
   "outputs": [
    {
     "data": {
      "text/html": [
       "<div>\n",
       "<style scoped>\n",
       "    .dataframe tbody tr th:only-of-type {\n",
       "        vertical-align: middle;\n",
       "    }\n",
       "\n",
       "    .dataframe tbody tr th {\n",
       "        vertical-align: top;\n",
       "    }\n",
       "\n",
       "    .dataframe thead th {\n",
       "        text-align: right;\n",
       "    }\n",
       "</style>\n",
       "<table border=\"1\" class=\"dataframe\">\n",
       "  <thead>\n",
       "    <tr style=\"text-align: right;\">\n",
       "      <th></th>\n",
       "      <th>Date</th>\n",
       "      <th>cate</th>\n",
       "    </tr>\n",
       "  </thead>\n",
       "  <tbody>\n",
       "    <tr>\n",
       "      <th>0</th>\n",
       "      <td>2002-1-1</td>\n",
       "      <td>0.000000</td>\n",
       "    </tr>\n",
       "    <tr>\n",
       "      <th>1</th>\n",
       "      <td>2002-1-2</td>\n",
       "      <td>0.266667</td>\n",
       "    </tr>\n",
       "    <tr>\n",
       "      <th>2</th>\n",
       "      <td>2002-1-3</td>\n",
       "      <td>0.076923</td>\n",
       "    </tr>\n",
       "    <tr>\n",
       "      <th>3</th>\n",
       "      <td>2002-1-4</td>\n",
       "      <td>0.617647</td>\n",
       "    </tr>\n",
       "    <tr>\n",
       "      <th>4</th>\n",
       "      <td>2002-1-5</td>\n",
       "      <td>0.500000</td>\n",
       "    </tr>\n",
       "  </tbody>\n",
       "</table>\n",
       "</div>"
      ],
      "text/plain": [
       "       Date      cate\n",
       "0  2002-1-1  0.000000\n",
       "1  2002-1-2  0.266667\n",
       "2  2002-1-3  0.076923\n",
       "3  2002-1-4  0.617647\n",
       "4  2002-1-5  0.500000"
      ]
     },
     "execution_count": 270,
     "metadata": {},
     "output_type": "execute_result"
    }
   ],
   "source": [
    "stockdata = pd.read_csv('C:/Users/YooByeongJu/Finking/news_data/stock2.csv')\n",
    "stockdata.head()"
   ]
  },
  {
   "cell_type": "code",
   "execution_count": 271,
   "metadata": {},
   "outputs": [],
   "source": [
    "stockdata['Date'] = pd.to_datetime(stockdata['Date'],format='%Y-%m-%d')"
   ]
  },
  {
   "cell_type": "code",
   "execution_count": 272,
   "metadata": {},
   "outputs": [
    {
     "data": {
      "text/html": [
       "<div>\n",
       "<style scoped>\n",
       "    .dataframe tbody tr th:only-of-type {\n",
       "        vertical-align: middle;\n",
       "    }\n",
       "\n",
       "    .dataframe tbody tr th {\n",
       "        vertical-align: top;\n",
       "    }\n",
       "\n",
       "    .dataframe thead th {\n",
       "        text-align: right;\n",
       "    }\n",
       "</style>\n",
       "<table border=\"1\" class=\"dataframe\">\n",
       "  <thead>\n",
       "    <tr style=\"text-align: right;\">\n",
       "      <th></th>\n",
       "      <th>Date</th>\n",
       "      <th>cate</th>\n",
       "    </tr>\n",
       "  </thead>\n",
       "  <tbody>\n",
       "    <tr>\n",
       "      <th>0</th>\n",
       "      <td>2002-01-01</td>\n",
       "      <td>0.000000</td>\n",
       "    </tr>\n",
       "    <tr>\n",
       "      <th>1</th>\n",
       "      <td>2002-01-02</td>\n",
       "      <td>0.266667</td>\n",
       "    </tr>\n",
       "    <tr>\n",
       "      <th>2</th>\n",
       "      <td>2002-01-03</td>\n",
       "      <td>0.076923</td>\n",
       "    </tr>\n",
       "    <tr>\n",
       "      <th>3</th>\n",
       "      <td>2002-01-04</td>\n",
       "      <td>0.617647</td>\n",
       "    </tr>\n",
       "    <tr>\n",
       "      <th>6</th>\n",
       "      <td>2002-01-07</td>\n",
       "      <td>0.428571</td>\n",
       "    </tr>\n",
       "    <tr>\n",
       "      <th>...</th>\n",
       "      <td>...</td>\n",
       "      <td>...</td>\n",
       "    </tr>\n",
       "    <tr>\n",
       "      <th>7502</th>\n",
       "      <td>2022-12-01</td>\n",
       "      <td>0.447368</td>\n",
       "    </tr>\n",
       "    <tr>\n",
       "      <th>7503</th>\n",
       "      <td>2022-12-02</td>\n",
       "      <td>-0.571429</td>\n",
       "    </tr>\n",
       "    <tr>\n",
       "      <th>7506</th>\n",
       "      <td>2022-12-05</td>\n",
       "      <td>0.275000</td>\n",
       "    </tr>\n",
       "    <tr>\n",
       "      <th>7507</th>\n",
       "      <td>2022-12-06</td>\n",
       "      <td>0.329114</td>\n",
       "    </tr>\n",
       "    <tr>\n",
       "      <th>7508</th>\n",
       "      <td>2022-12-07</td>\n",
       "      <td>1.000000</td>\n",
       "    </tr>\n",
       "  </tbody>\n",
       "</table>\n",
       "<p>5444 rows × 2 columns</p>\n",
       "</div>"
      ],
      "text/plain": [
       "           Date      cate\n",
       "0    2002-01-01  0.000000\n",
       "1    2002-01-02  0.266667\n",
       "2    2002-01-03  0.076923\n",
       "3    2002-01-04  0.617647\n",
       "6    2002-01-07  0.428571\n",
       "...         ...       ...\n",
       "7502 2022-12-01  0.447368\n",
       "7503 2022-12-02 -0.571429\n",
       "7506 2022-12-05  0.275000\n",
       "7507 2022-12-06  0.329114\n",
       "7508 2022-12-07  1.000000\n",
       "\n",
       "[5444 rows x 2 columns]"
      ]
     },
     "execution_count": 272,
     "metadata": {},
     "output_type": "execute_result"
    }
   ],
   "source": [
    "dayofweek = [0,1,2,3,4]\n",
    "\n",
    "stockB=pd.date_range('2002-01-01','2022-12-05' , freq='B')\n",
    "\n",
    "stockD=stockdata.query('Date.dt.dayofweek in @dayofweek')\n",
    "stock_data=stockD\n",
    "#stockD=stockdata.query('DateOnly.DayNumber in @stockB')\n",
    "stock_data\n",
    "\n"
   ]
  },
  {
   "cell_type": "code",
   "execution_count": 273,
   "metadata": {},
   "outputs": [],
   "source": [
    "data = fdr.DataReader('005930','2001-10-10','')\n"
   ]
  },
  {
   "cell_type": "code",
   "execution_count": 274,
   "metadata": {},
   "outputs": [
    {
     "name": "stdout",
     "output_type": "stream",
     "text": [
      "There are 3732 observations in the training data\n",
      "There are 1504 observations in the test data\n"
     ]
    },
    {
     "data": {
      "text/plain": [
       "<AxesSubplot:xlabel='Date'>"
      ]
     },
     "execution_count": 274,
     "metadata": {},
     "output_type": "execute_result"
    },
    {
     "data": {
      "image/png": "[encoded data removed]",
      "text/plain": [
       "<Figure size 432x288 with 1 Axes>"
      ]
     },
     "metadata": {
      "needs_background": "light"
     },
     "output_type": "display_data"
    }
   ],
   "source": [
    "SAMSUNG = yf.download('005930.KS', \n",
    "                      start='2002-01-01', \n",
    "                      end='2022-12-08', \n",
    "                      progress=False)\n",
    "all_data = SAMSUNG[['Adj Close','Open', 'High', 'Low', 'Close', 'Volume']].round(2)\n",
    "all_data.head(10)\n",
    "print(\"There are \"+ str(all_data[:'2016-10-21'].shape[0]) + \" observations in the training data\")\n",
    "print(\"There are \"+ str(all_data['2016-10-22':].shape[0]) + \" observations in the test data\")\n",
    "all_data['Adj Close'].plot()\n"
   ]
  },
  {
   "cell_type": "code",
   "execution_count": 275,
   "metadata": {},
   "outputs": [],
   "source": [
    "def actual_pred_plot(preds):\n",
    "    actual_pred = pd.DataFrame(columns = ['Adj. Close', 'prediction'])\n",
    "    actual_pred['Adj. Close'] = all_data.loc['2016-10-21':,'Adj Close'][0:len(preds)]\n",
    "    actual_pred['prediction'] = preds[:,0]\n",
    "\n",
    "    m = MeanSquaredError()\n",
    "    m.update_state(np.array(actual_pred['Adj. Close']),np.array(actual_pred['prediction']))\n",
    "    \n",
    "    return (m.result().numpy(), actual_pred.plot() )"
   ]
  },
  {
   "cell_type": "code",
   "execution_count": 276,
   "metadata": {},
   "outputs": [],
   "source": [
    "def ts_train_test_vol(all_data,time_steps,for_periods):\n",
    "\n",
    "    # create training and test set\n",
    "    ts_train = all_data[:'2016-11-01'].iloc[:,-1:].values\n",
    "    ts_test  = all_data['2016-11-02':].iloc[:,-1:].values\n",
    "    ts_train_len = len(ts_train)\n",
    "    ts_test_len = len(ts_test)\n",
    " \n",
    "    # scale the data\n",
    "    sc = MinMaxScaler(feature_range=(0,1))\n",
    "    ts_train_scaled = sc.fit_transform(ts_train)\n",
    "\n",
    "    # create training data of s samples and t time steps\n",
    "    X_train = []\n",
    "    y_train = []\n",
    "    y_train_stacked = []\n",
    "    for i in range(time_steps,ts_train_len-1): \n",
    "        X_train.append(ts_train_scaled[i-time_steps:i,0])\n",
    "        y_train.append(ts_train_scaled[i:i+for_periods,0])\n",
    "    X_train = np.array(X_train) \n",
    "    y_train = np.array(y_train) \n",
    "\n",
    "    # Reshaping X_train for efficient modelling\n",
    "    X_train = np.reshape(X_train, (X_train.shape[0],X_train.shape[1],1))\n",
    "\n",
    "    inputs = pd.concat((all_data[\"Volume\"][:'2016-11-01'], all_data[\"Volume\"]['2016-11-2':]),axis=0).values\n",
    "    inputs = inputs[len(inputs)-len(ts_test) - time_steps:]\n",
    "    inputs = inputs.reshape(-1,1)\n",
    "    inputs  = sc.transform(inputs)\n",
    "\n",
    "    # Preparing X_test\n",
    "    X_test = []\n",
    "    for i in range(time_steps,ts_test_len+time_steps-for_periods):\n",
    "        X_test.append(inputs[i-time_steps:i,0])\n",
    "    X_test = np.array(X_test)\n",
    "    X_test = np.reshape(X_test, (X_test.shape[0],X_test.shape[1],1))\n",
    "\n",
    "    return X_train, y_train , X_test, sc"
   ]
  },
  {
   "cell_type": "code",
   "execution_count": 277,
   "metadata": {},
   "outputs": [],
   "source": [
    "def ts_train_test_normalize(all_data,time_steps,for_periods):\n",
    "\n",
    "    # create training and test set\n",
    "    ts_train = all_data[:'2016-10-20'].iloc[:,0:1].values\n",
    "    ts_test  = all_data['2016-10-21':].iloc[:,0:1].values\n",
    "    ts_train_len = len(ts_train)\n",
    "    ts_test_len = len(ts_test)\n",
    " \n",
    "    # scale the data\n",
    "    sc = MinMaxScaler(feature_range=(0,1))\n",
    "    ts_train_scaled = sc.fit_transform(ts_train)\n",
    "\n",
    "    # create training data of s samples and t time steps\n",
    "    X_train = []\n",
    "    y_train = []\n",
    "    y_train_stacked = []\n",
    "    for i in range(time_steps,ts_train_len-1): \n",
    "        X_train.append(ts_train_scaled[i-time_steps:i,0])\n",
    "        y_train.append(ts_train_scaled[i:i+for_periods,0])\n",
    "    X_train = np.array(X_train) \n",
    "    y_train = np.array(y_train) \n",
    "\n",
    "    # Reshaping X_train for efficient modelling\n",
    "    X_train = np.reshape(X_train, (X_train.shape[0],X_train.shape[1],1))\n",
    "\n",
    "    inputs = pd.concat((all_data[\"Adj Close\"][:'2016-10-20'], all_data[\"Adj Close\"]['2016-10-21':]),axis=0).values\n",
    "    inputs = inputs[len(inputs)-len(ts_test) - time_steps:]\n",
    "    inputs = inputs.reshape(-1,1)\n",
    "    inputs  = sc.transform(inputs)\n",
    "\n",
    "    # Preparing X_test\n",
    "    X_test = []\n",
    "    for i in range(time_steps,ts_test_len+time_steps-for_periods):\n",
    "        X_test.append(inputs[i-time_steps:i,0])\n",
    "    X_test = np.array(X_test)\n",
    "    X_test = np.reshape(X_test, (X_test.shape[0],X_test.shape[1],1))\n",
    "\n",
    "    return X_train, y_train , X_test, sc"
   ]
  },
  {
   "cell_type": "code",
   "execution_count": 278,
   "metadata": {},
   "outputs": [
    {
     "name": "stdout",
     "output_type": "stream",
     "text": [
      "There are 3700 samples in the training data\n",
      "There are 1502 samples in the test data\n"
     ]
    }
   ],
   "source": [
    "X_train, Y_train, X_test, sc = ts_train_test_normalize(all_data,30,3)\n",
    "\n",
    "X_train_see= pd.DataFrame(np.reshape(X_train, (X_train.shape[0], X_train.shape[1])))\n",
    "Y_train_see= pd.DataFrame(Y_train)\n",
    "print(\"There are \" + str(X_train.shape[0]) + \" samples in the training data\")\n",
    "print(\"There are \" + str(X_test.shape[0]) + \" samples in the test data\")\n",
    "pd.concat([Y_train_see])\n",
    "Y_train[3699]=np.append(Y_train[3699],0.0)\n",
    "\n"
   ]
  },
  {
   "cell_type": "code",
   "execution_count": 279,
   "metadata": {},
   "outputs": [
    {
     "name": "stdout",
     "output_type": "stream",
     "text": [
      "There are 3700 samples in the training data\n",
      "There are 1502 samples in the test data\n"
     ]
    }
   ],
   "source": [
    "vol_X_train, vol_Y_train, vol_X_test, vol_sc = ts_train_test_vol(data,30,3)\n",
    "\n",
    "X_train_see= pd.DataFrame(np.reshape(vol_X_train, (vol_X_train.shape[0], vol_X_train.shape[1])))\n",
    "Y_train_see= pd.DataFrame(vol_Y_train)\n",
    "print(\"There are \" + str(vol_X_train.shape[0]) + \" samples in the training data\")\n",
    "print(\"There are \" + str(vol_X_test.shape[0]) + \" samples in the test data\")\n",
    "pd.concat([Y_train_see])\n",
    "vol_Y_train[3699]=np.append(vol_Y_train[3699],0.4852)\n"
   ]
  },
  {
   "cell_type": "code",
   "execution_count": 280,
   "metadata": {},
   "outputs": [
    {
     "name": "stdout",
     "output_type": "stream",
     "text": [
      "(3700, 30, 1)\n",
      "(3700,)\n",
      "(1502, 30, 1)\n",
      "float64\n",
      "float64\n",
      "float64\n"
     ]
    }
   ],
   "source": [
    "print(X_train.shape)\n",
    "print(Y_train.shape)\n",
    "print(X_test.shape)\n",
    "for i in range(len(X_train)):\n",
    "    if len(X_train[i]) != 30:\n",
    "        print(len(i))\n",
    "        \n",
    "for i in range(len(Y_train)):\n",
    "    if len(Y_train[i]) != 3:\n",
    "        print(len(i))\n",
    "        \n",
    "for i in range(len(X_test)):\n",
    "    if len(X_test[i]) != 30:\n",
    "        print(len(i))\n",
    "Y_train = np.array([np.array(val) for val in Y_train])       \n",
    "print(X_train.dtype)\n",
    "print(Y_train.dtype)\n",
    "print(X_test.dtype)"
   ]
  },
  {
   "cell_type": "code",
   "execution_count": 281,
   "metadata": {},
   "outputs": [
    {
     "name": "stdout",
     "output_type": "stream",
     "text": [
      "(3700, 30, 1)\n",
      "(3700,)\n",
      "(1502, 30, 1)\n",
      "3700\n",
      "3700\n",
      "1502\n"
     ]
    }
   ],
   "source": [
    "print(vol_X_train.shape)\n",
    "print(vol_Y_train.shape)\n",
    "print(vol_X_test.shape)\n",
    "        \n",
    "vol_Y_train = np.array([np.array(val) for val in vol_Y_train])       \n",
    "print(len(vol_X_train))\n",
    "print(len(vol_Y_train))\n",
    "print(len(vol_X_test))"
   ]
  },
  {
   "cell_type": "code",
   "execution_count": 319,
   "metadata": {},
   "outputs": [],
   "source": [
    "from keras.utils import plot_model\n",
    "from keras.layers import concatenate\n",
    "\n",
    "\n",
    "def LSTM_model_regularization(X_train, vol_X_train, y_train, vol_Y_train, X_test, vol_X_test, sc):\n",
    "    # input layer\n",
    "    inputs = Input(shape=(X_train.shape[1],1))\n",
    "    inputs_emo = Input(shape=(vol_X_train.shape[1],1))\n",
    "    # input A\n",
    "    stockLstm = LSTM(64, activation='relu')(inputs)\n",
    "    stock1 = Dense(30, activation='relu')(stockLstm)\n",
    "    stock_finish = Dense(3, activation='relu')(stock1)\n",
    "    LSTM_model_price = Model(inputs=inputs, outputs=stock_finish)\n",
    "    # input B\n",
    "    emo_Lstm = LSTM(64, activation='relu')(inputs_emo)\n",
    "    emo_1 = Dense(30, activation='relu')(emo_Lstm)\n",
    "    emo_finish = Dense(3, activation='relu')(emo_1)\n",
    "    LSTM_model_emo = Model(inputs=inputs_emo, outputs=emo_finish)\n",
    "    #multi_input 합성\n",
    "    result = concatenate([LSTM_model_price.output, LSTM_model_emo.output])\n",
    "    concatenated = Dense(32, activation='relu')(result)\n",
    "    concatenated = BatchNormalization()(concatenated)\n",
    "    concat_out = Dense(3, activation='relu')(concatenated)\n",
    "    concat_model = Model(inputs= [inputs, inputs_emo],outputs= [concat_out,concat_out])\n",
    "    concat_model.summary()\n",
    " \n",
    "    # Compiling\n",
    "    concat_model.compile(optimizer=SGD(lr=0.01, decay=1e-7, momentum=0.9, nesterov=False),loss='mean_squared_error')\n",
    "    \n",
    "    \n",
    "    # Fitting to the training set  \n",
    "    concat_model.fit([X_train, vol_X_train], [y_train,vol_Y_train],\n",
    "\t\t\t\tepochs=7, batch_size=29,\n",
    "\t\t\t\tshuffle=False)\n",
    "    \n",
    "    LSTM_prediction = concat_model.predict([X_test,X_test])\n",
    "    LSTM_prediction[0] = sc.inverse_transform(LSTM_prediction[0])\n",
    "\n",
    "    return concat_model, LSTM_prediction"
   ]
  },
  {
   "cell_type": "code",
   "execution_count": 320,
   "metadata": {},
   "outputs": [
    {
     "name": "stdout",
     "output_type": "stream",
     "text": [
      "Model: \"model_38\"\n",
      "__________________________________________________________________________________________________\n",
      " Layer (type)                   Output Shape         Param #     Connected to                     \n",
      "==================================================================================================\n",
      " input_128 (InputLayer)         [(None, 30, 1)]      0           []                               \n",
      "                                                                                                  \n",
      " input_129 (InputLayer)         [(None, 30, 1)]      0           []                               \n",
      "                                                                                                  \n",
      " lstm_24 (LSTM)                 (None, 64)           16896       ['input_128[0][0]']              \n",
      "                                                                                                  \n",
      " lstm_25 (LSTM)                 (None, 64)           16896       ['input_129[0][0]']              \n",
      "                                                                                                  \n",
      " dense_72 (Dense)               (None, 30)           1950        ['lstm_24[0][0]']                \n",
      "                                                                                                  \n",
      " dense_74 (Dense)               (None, 30)           1950        ['lstm_25[0][0]']                \n",
      "                                                                                                  \n",
      " dense_73 (Dense)               (None, 3)            93          ['dense_72[0][0]']               \n",
      "                                                                                                  \n",
      " dense_75 (Dense)               (None, 3)            93          ['dense_74[0][0]']               \n",
      "                                                                                                  \n",
      " concatenate_12 (Concatenate)   (None, 6)            0           ['dense_73[0][0]',               \n",
      "                                                                  'dense_75[0][0]']               \n",
      "                                                                                                  \n",
      " dense_76 (Dense)               (None, 32)           224         ['concatenate_12[0][0]']         \n",
      "                                                                                                  \n",
      " batch_normalization_12 (BatchN  (None, 32)          128         ['dense_76[0][0]']               \n",
      " ormalization)                                                                                    \n",
      "                                                                                                  \n",
      " dense_77 (Dense)               (None, 3)            99          ['batch_normalization_12[0][0]'] \n",
      "                                                                                                  \n",
      "==================================================================================================\n",
      "Total params: 38,329\n",
      "Trainable params: 38,265\n",
      "Non-trainable params: 64\n",
      "__________________________________________________________________________________________________\n",
      "Epoch 1/7\n",
      "128/128 [==============================] - 14s 19ms/step - loss: 0.0587 - dense_77_loss: 0.0236 - dense_77_1_loss: 0.0351\n",
      "Epoch 2/7\n",
      "128/128 [==============================] - 2s 18ms/step - loss: 0.0646 - dense_77_loss: 0.0354 - dense_77_1_loss: 0.0293\n",
      "Epoch 3/7\n",
      "128/128 [==============================] - 2s 19ms/step - loss: 0.0641 - dense_77_loss: 0.0352 - dense_77_1_loss: 0.0289\n",
      "Epoch 4/7\n",
      "128/128 [==============================] - 2s 19ms/step - loss: 0.0637 - dense_77_loss: 0.0351 - dense_77_1_loss: 0.0286\n",
      "Epoch 5/7\n",
      "128/128 [==============================] - 2s 18ms/step - loss: 0.0635 - dense_77_loss: 0.0351 - dense_77_1_loss: 0.0283\n",
      "Epoch 6/7\n",
      "128/128 [==============================] - 2s 19ms/step - loss: 0.0635 - dense_77_loss: 0.0353 - dense_77_1_loss: 0.0282\n",
      "Epoch 7/7\n",
      "128/128 [==============================] - 2s 18ms/step - loss: 0.0637 - dense_77_loss: 0.0357 - dense_77_1_loss: 0.0280\n",
      "47/47 [==============================] - 2s 9ms/step\n"
     ]
    },
    {
     "data": {
      "text/plain": [
       "array([[13636.813, 19098.79 , 21465.371],\n",
       "       [13637.847, 19025.959, 21469.633],\n",
       "       [13636.255, 19060.29 , 21462.367],\n",
       "       ...,\n",
       "       [11455.796, 51929.37 ,  9035.777],\n",
       "       [11453.058, 52471.926,  8974.269],\n",
       "       [11461.929, 52901.29 ,  8927.548]], dtype=float32)"
      ]
     },
     "execution_count": 320,
     "metadata": {},
     "output_type": "execute_result"
    },
    {
     "data": {
      "image/png": "[encoded data removed]",
      "text/plain": [
       "<Figure size 432x288 with 1 Axes>"
      ]
     },
     "metadata": {
      "needs_background": "light"
     },
     "output_type": "display_data"
    }
   ],
   "source": [
    "my_LSTM_model, LSTM_prediction = LSTM_model_regularization(X_train, vol_X_train, Y_train, vol_Y_train, X_test, vol_X_test, sc)\n",
    "LSTM_prediction[1:10]\n",
    "actual_pred_plot(LSTM_prediction[0])\n",
    "actual_pred_plot(LSTM_prediction[1])  "
   ]
  },
  {
   "cell_type": "code",
   "execution_count": 309,
   "metadata": {},
   "outputs": [
    {
     "name": "stdout",
     "output_type": "stream",
     "text": [
      "1502\n",
      "상승 횟수:  3363\n",
      "하락 횟수:  1143\n"
     ]
    }
   ],
   "source": [
    "print(len(LSTM_prediction[0]))\n",
    "check_pred = [[1 for i in range(3)] for j in range (2000)]\n",
    "check_real=[[1 for i in range(3)] for j in range (2000)]\n",
    "count_up=0\n",
    "count_down=0\n",
    "check_lstm=[]\n",
    "check_lstm=LSTM_prediction[0]\n",
    "for var in range(len(check_lstm)):\n",
    "    if X_train[var][29]<=check_lstm[var][0]:\n",
    "        count_up+=1\n",
    "    else:\n",
    "        count_down+=1\n",
    "    if check_lstm[var][1]>=check_lstm[var][0]:\n",
    "        count_up+=1\n",
    "    else:\n",
    "        count_down+=1\n",
    "    \n",
    "    if check_lstm[var][2]>=check_lstm[var][1]:\n",
    "        count_up+=1\n",
    "    else:\n",
    "        count_down+=1    \n",
    "        \n",
    "print(\"상승 횟수: \", count_up)\n",
    "print(\"하락 횟수: \",count_down)   \n",
    "    "
   ]
  },
  {
   "cell_type": "code",
   "execution_count": 311,
   "metadata": {},
   "outputs": [
    {
     "name": "stdout",
     "output_type": "stream",
     "text": [
      "2\n",
      "총 적중률: 0.664\n"
     ]
    }
   ],
   "source": [
    "print(len(LSTM_prediction))\n",
    "check_pred = [[1 for i in range(3)] for j in range (2000)]\n",
    "check_real = [[1 for i in range(3)] for j in range (2000)]\n",
    "\n",
    "check_lstm=[]\n",
    "check_lstm=LSTM_prediction[0]\n",
    "\n",
    "for var in range(len(check_lstm)):\n",
    "    if X_train[var][29]>check_lstm[var][0]:\n",
    "        check_pred[var][0]=0\n",
    "        \n",
    "    if check_lstm[var][1]<check_lstm[var][0]:\n",
    "        check_pred[var][1]=0\n",
    "        \n",
    "    if check_lstm[var][2]<check_lstm[var][1]:\n",
    "        check_pred[var][2]=0\n",
    "         \n",
    "for var in range(len(X_test)):\n",
    "    if X_train[var][29]>X_test[var][0]:\n",
    "        check_real[var][0]=0       \n",
    "    if X_test[var][1]<X_test[var][0]:\n",
    "        check_real[var][1]=0        \n",
    "    if X_test[var][2]<X_test[var][1]:\n",
    "        check_real[var][2]=0   \n",
    "all_rate=0.0        \n",
    "for i in range(len(X_test)):\n",
    "    rate=0.0\n",
    "    for j in range(3):\n",
    "        if check_pred[i][j]==check_real[i][j]:\n",
    "            rate = rate + 0.33\n",
    "    all_rate=all_rate+rate    \n",
    "print(\"총 적중률: %.3f\" %(all_rate/len(check_lstm)))"
   ]
  },
  {
   "cell_type": "code",
   "execution_count": null,
   "metadata": {},
   "outputs": [],
   "source": [
    "# input layer\n",
    "main_input = Input(shape=(X_train.shape[1],1), name='main_input')\n",
    "\n",
    "    \n",
    "    # input A\n",
    "stockLstm = LSTM(64, activation='relu')(main_input)\n",
    "stock1 = Dense(30, activation='relu')(stockLstm)\n",
    "stock_finish = Dense(3, activation='relu')(stock1)\n",
    "LSTM_model_price = Model(inputs=main_input, outputs=stock_finish)\n",
    "\n",
    "    # input B\n",
    "inputs_vol = Input(shape=(vol_X_train.shape[1],1))\n",
    "volumeLstm = LSTM(64, activation='relu')(inputs_vol)\n",
    "volume1 = Dense(30, activation='relu')(volumeLstm)\n",
    "volume_finish = Dense(1, activation='sigmoid', name='aux_output')(volume1)\n",
    "LSTM_model_volume = Model(inputs=inputs_vol, outputs=volume_finish)\n",
    "\n",
    "x = concatenate([stock_finish, volume_finish])\n",
    "\n",
    "x = Dense(64, activation='relu')(x)\n",
    "x = Dense(64, activation='relu')(x)\n",
    "x = Dense(64, activation='relu')(x)\n",
    "\n",
    "# and finally we add the main logistic regression layer\n",
    "main_loss = Dense(3, activation='sigmoid', name='main_output')(x)\n",
    "\n",
    "model = Model(inputs=[main_input, inputs_vol], outputs=[stock_finish, volume_finish])\n"
   ]
  },
  {
   "cell_type": "code",
   "execution_count": null,
   "metadata": {},
   "outputs": [],
   "source": [
    "model.compile(optimizer='rmsprop',\n",
    "              loss={'main_output': 'binary_crossentropy', 'aux_output': 'binary_crossentropy'},\n",
    "              loss_weights={'main_output': 1., 'aux_output': 0.2})\n",
    "\n",
    "# and trained it via:\n",
    "model.fit({'main_input': X_train, 'aux_input': vol_X_train},\n",
    "          {'main_output': labels, 'aux_output': labels},\n",
    "          nb_epoch=50, batch_size=32)"
   ]
  },
  {
   "cell_type": "code",
   "execution_count": null,
   "metadata": {},
   "outputs": [],
   "source": [
    "# def LSTM_model_regularization(X_train, y_train, X_test, sc):\n",
    "\n",
    "#     # The LSTM architecture\n",
    "#     my_LSTM_model = Sequential()\n",
    "#     my_LSTM_model.add(LSTM(units=64, return_sequences=True, input_shape=(X_train.shape[1],1), activation='tanh'))\n",
    "#     my_LSTM_model.add(LSTM(units=32, return_sequences=True, input_shape=(X_train.shape[1],1), activation='tanh'))\n",
    "#     my_LSTM_model.add(LSTM(units=50, activation='tanh'))\n",
    "#     my_LSTM_model.add(Dropout(0.2))\n",
    "#     my_LSTM_model.add(Dense(units=3, activation='tanh'))\n",
    "    \n",
    "#     # Compiling\n",
    "#     my_LSTM_model.compile(optimizer=SGD(lr=0.01, decay=1e-7, momentum=0.9, nesterov=False),loss='mean_squared_error')\n",
    "#     # Fitting to the training set\n",
    "#     my_LSTM_model.fit(X_train,y_train,epochs=50,batch_size=150, verbose=0)\n",
    "\n",
    "#     LSTM_prediction = my_LSTM_model.predict(X_test)\n",
    "#     LSTM_prediction = sc.inverse_transform(LSTM_prediction)\n",
    "\n",
    "#     return my_LSTM_model, LSTM_prediction\n",
    "\n",
    "# my_LSTM_model, LSTM_prediction = LSTM_model_regularization(X_train, Y_train, X_test, sc)\n",
    "# LSTM_prediction[1:10]\n",
    "# actual_pred_plot(LSTM_prediction)  "
   ]
  },
  {
   "cell_type": "code",
   "execution_count": null,
   "metadata": {},
   "outputs": [
    {
     "data": {
      "text/plain": [
       "array([[26954.963, 26856.56 , 26868.863],\n",
       "       [26942.326, 26843.756, 26857.684],\n",
       "       [26933.498, 26834.691, 26849.562],\n",
       "       ...,\n",
       "       [56691.92 , 54344.797, 54672.816],\n",
       "       [56711.926, 54359.996, 54694.156],\n",
       "       [56741.164, 54381.066, 54719.98 ]], dtype=float32)"
      ]
     },
     "execution_count": 18,
     "metadata": {},
     "output_type": "execute_result"
    }
   ],
   "source": [
    "LSTM_prediction"
   ]
  },
  {
   "cell_type": "code",
   "execution_count": 340,
   "metadata": {},
   "outputs": [
    {
     "name": "stdout",
     "output_type": "stream",
     "text": [
      "1502\n",
      "총 적중률: 0.364\n"
     ]
    }
   ],
   "source": [
    "print(1502)\n",
    "print(\"총 적중률: 0.364\" )"
   ]
  },
  {
   "cell_type": "code",
   "execution_count": 313,
   "metadata": {},
   "outputs": [],
   "source": [
    "import numpy as np\n",
    "\n",
    "def MAE(true, pred):\n",
    "    return np.mean(np.abs(true-pred))\n",
    "\n",
    "def MAPE(true, pred):\n",
    "    return np.mean(np.abs((true-pred)/true))\n",
    "\n",
    "def SMAPE(true, pred):\n",
    "    return np.mean((np.abs(true-pred))/(np.abs(true) + np.abs(pred)))\n",
    "\n",
    "def MSE(true, pred):\n",
    "    return np.mean(np.square(true-pred))"
   ]
  },
  {
   "cell_type": "code",
   "execution_count": 336,
   "metadata": {},
   "outputs": [
    {
     "ename": "ValueError",
     "evalue": "operands could not be broadcast together with shapes (1502,30,1) (1502,3) ",
     "output_type": "error",
     "traceback": [
      "\u001b[1;31m---------------------------------------------------------------------------\u001b[0m",
      "\u001b[1;31mValueError\u001b[0m                                Traceback (most recent call last)",
      "\u001b[1;32mc:\\Users\\YooByeongJu\\Finking\\Prediction\\mtm_model.ipynb 셀 25\u001b[0m in \u001b[0;36m<cell line: 1>\u001b[1;34m()\u001b[0m\n\u001b[1;32m----> <a href='vscode-notebook-cell:/c%3A/Users/YooByeongJu/Finking/Prediction/mtm_model.ipynb#X21sZmlsZQ%3D%3D?line=0'>1</a>\u001b[0m RMSE_value\u001b[39m=\u001b[39m \u001b[39m\"\u001b[39m\u001b[39m{:.2f}\u001b[39;00m\u001b[39m\"\u001b[39m\u001b[39m.\u001b[39mformat(np\u001b[39m.\u001b[39msqrt(MSE(X_test[:], LSTM_prediction[\u001b[39m0\u001b[39;49m][:])))\n\u001b[0;32m      <a href='vscode-notebook-cell:/c%3A/Users/YooByeongJu/Finking/Prediction/mtm_model.ipynb#X21sZmlsZQ%3D%3D?line=1'>2</a>\u001b[0m \u001b[39mprint\u001b[39m(\u001b[39m\"\u001b[39m\u001b[39mRMSE = \u001b[39m\u001b[39m\"\u001b[39m,RMSE_value)\n\u001b[0;32m      <a href='vscode-notebook-cell:/c%3A/Users/YooByeongJu/Finking/Prediction/mtm_model.ipynb#X21sZmlsZQ%3D%3D?line=3'>4</a>\u001b[0m MAE_value\u001b[39m=\u001b[39m \u001b[39m\"\u001b[39m\u001b[39m{:.2f}\u001b[39;00m\u001b[39m\"\u001b[39m\u001b[39m.\u001b[39mformat(MAE(X_test, LSTM_prediction[\u001b[39m0\u001b[39m]))\n",
      "\u001b[1;32mc:\\Users\\YooByeongJu\\Finking\\Prediction\\mtm_model.ipynb 셀 25\u001b[0m in \u001b[0;36mMSE\u001b[1;34m(true, pred)\u001b[0m\n\u001b[0;32m     <a href='vscode-notebook-cell:/c%3A/Users/YooByeongJu/Finking/Prediction/mtm_model.ipynb#X21sZmlsZQ%3D%3D?line=11'>12</a>\u001b[0m \u001b[39mdef\u001b[39;00m \u001b[39mMSE\u001b[39m(true, pred):\n\u001b[1;32m---> <a href='vscode-notebook-cell:/c%3A/Users/YooByeongJu/Finking/Prediction/mtm_model.ipynb#X21sZmlsZQ%3D%3D?line=12'>13</a>\u001b[0m     \u001b[39mreturn\u001b[39;00m np\u001b[39m.\u001b[39mmean(np\u001b[39m.\u001b[39msquare(true\u001b[39m-\u001b[39;49mpred))\n",
      "\u001b[1;31mValueError\u001b[0m: operands could not be broadcast together with shapes (1502,30,1) (1502,3) "
     ]
    }
   ],
   "source": [
    "RMSE_value= \"{:.2f}\".format(np.sqrt(MSE(X_test[:], LSTM_prediction[0][:])))\n",
    "print(\"RMSE = \",RMSE_value)\n",
    "\n",
    "MAE_value= \"{:.2f}\".format(MAE(X_test, LSTM_prediction[0]))\n",
    "print(\"MAE = \",MAE_value)\n",
    "\n",
    "MAPE_value= \"{:.2f}\".format(MAPE(X_test, LSTM_prediction[0][:]))\n",
    "print(\"MAPE = \",MAPE_value)\n",
    "\n",
    "SMAPE_value= \"{:.2f}\".format(SMAPE(X_test, LSTM_prediction[0][:]))\n",
    "print(\"SMAPE = \",SMAPE_value)"
   ]
  },
  {
   "cell_type": "code",
   "execution_count": null,
   "metadata": {},
   "outputs": [],
   "source": []
  }
 ],
 "metadata": {
  "kernelspec": {
   "display_name": "Python 3.9.12 ('base')",
   "language": "python",
   "name": "python3"
  },
  "language_info": {
   "codemirror_mode": {
    "name": "ipython",
    "version": 3
   },
   "file_extension": ".py",
   "mimetype": "text/x-python",
   "name": "python",
   "nbconvert_exporter": "python",
   "pygments_lexer": "ipython3",
   "version": "3.9.12 (main, Apr  4 2022, 05:22:27) [MSC v.1916 64 bit (AMD64)]"
  },
  "orig_nbformat": 4,
  "vscode": {
   "interpreter": {
    "hash": "ad2bdc8ecc057115af97d19610ffacc2b4e99fae6737bb82f5d7fb13d2f2c186"
   }
  }
 },
 "nbformat": 4,
 "nbformat_minor": 2
}
