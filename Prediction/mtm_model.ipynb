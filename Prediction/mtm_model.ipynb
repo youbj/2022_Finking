{
 "cells": [
  {
   "cell_type": "code",
   "execution_count": 8,
   "metadata": {},
   "outputs": [],
   "source": [
    "import warnings\n",
    "import yfinance as yf\n",
    "from yahoofinancials import YahooFinancials\n",
    "import pandas as pd\n",
    "import numpy as np\n",
    "import matplotlib.pyplot as plt\n",
    "import tensorflow as tf\n",
    "from keras.models import Sequential, Model\n",
    "from keras.layers import Dense, LSTM, Dropout, Flatten\n",
    "from keras.optimizers import SGD\n",
    "from sklearn.preprocessing import MinMaxScaler\n",
    "from keras.metrics import MeanSquaredError\n",
    "\n",
    "# from keras.callbacks import TensorBoard, ModelCheckpoint, ReduceLROnPlateau\n",
    "import math\n",
    "warnings.filterwarnings('ignore')"
   ]
  },
  {
   "cell_type": "code",
   "execution_count": 2,
   "metadata": {},
   "outputs": [],
   "source": [
    "tf.compat.v1.reset_default_graph() "
   ]
  },
  {
   "cell_type": "code",
   "execution_count": 3,
   "metadata": {},
   "outputs": [
    {
     "name": "stdout",
     "output_type": "stream",
     "text": [
      "1.5.2\n",
      "2.11.0\n",
      "1.21.5\n"
     ]
    }
   ],
   "source": [
    "print(pd.__version__)\n",
    "print(tf.__version__)\n",
    "print(np.__version__)"
   ]
  },
  {
   "cell_type": "code",
   "execution_count": 17,
   "metadata": {},
   "outputs": [
    {
     "data": {
      "text/html": [
       "<div>\n",
       "<style scoped>\n",
       "    .dataframe tbody tr th:only-of-type {\n",
       "        vertical-align: middle;\n",
       "    }\n",
       "\n",
       "    .dataframe tbody tr th {\n",
       "        vertical-align: top;\n",
       "    }\n",
       "\n",
       "    .dataframe thead th {\n",
       "        text-align: right;\n",
       "    }\n",
       "</style>\n",
       "<table border=\"1\" class=\"dataframe\">\n",
       "  <thead>\n",
       "    <tr style=\"text-align: right;\">\n",
       "      <th></th>\n",
       "      <th>Date</th>\n",
       "      <th>cate</th>\n",
       "    </tr>\n",
       "  </thead>\n",
       "  <tbody>\n",
       "    <tr>\n",
       "      <th>0</th>\n",
       "      <td>2002-1-1</td>\n",
       "      <td>0.000000</td>\n",
       "    </tr>\n",
       "    <tr>\n",
       "      <th>1</th>\n",
       "      <td>2002-1-2</td>\n",
       "      <td>0.266667</td>\n",
       "    </tr>\n",
       "    <tr>\n",
       "      <th>2</th>\n",
       "      <td>2002-1-3</td>\n",
       "      <td>0.076923</td>\n",
       "    </tr>\n",
       "    <tr>\n",
       "      <th>3</th>\n",
       "      <td>2002-1-4</td>\n",
       "      <td>0.617647</td>\n",
       "    </tr>\n",
       "    <tr>\n",
       "      <th>4</th>\n",
       "      <td>2002-1-5</td>\n",
       "      <td>0.500000</td>\n",
       "    </tr>\n",
       "  </tbody>\n",
       "</table>\n",
       "</div>"
      ],
      "text/plain": [
       "       Date      cate\n",
       "0  2002-1-1  0.000000\n",
       "1  2002-1-2  0.266667\n",
       "2  2002-1-3  0.076923\n",
       "3  2002-1-4  0.617647\n",
       "4  2002-1-5  0.500000"
      ]
     },
     "execution_count": 17,
     "metadata": {},
     "output_type": "execute_result"
    }
   ],
   "source": [
    "stockdata = pd.read_csv('stock2.csv')\n",
    "stockdata.head()"
   ]
  },
  {
   "cell_type": "code",
   "execution_count": 18,
   "metadata": {},
   "outputs": [],
   "source": [
    "stockdata['Date'] = pd.to_datetime(stockdata['Date'],format='%Y-%m-%d')"
   ]
  },
  {
   "cell_type": "code",
   "execution_count": 34,
   "metadata": {},
   "outputs": [
    {
     "data": {
      "text/html": [
       "<div>\n",
       "<style scoped>\n",
       "    .dataframe tbody tr th:only-of-type {\n",
       "        vertical-align: middle;\n",
       "    }\n",
       "\n",
       "    .dataframe tbody tr th {\n",
       "        vertical-align: top;\n",
       "    }\n",
       "\n",
       "    .dataframe thead th {\n",
       "        text-align: right;\n",
       "    }\n",
       "</style>\n",
       "<table border=\"1\" class=\"dataframe\">\n",
       "  <thead>\n",
       "    <tr style=\"text-align: right;\">\n",
       "      <th></th>\n",
       "      <th>Date</th>\n",
       "      <th>cate</th>\n",
       "    </tr>\n",
       "  </thead>\n",
       "  <tbody>\n",
       "  </tbody>\n",
       "</table>\n",
       "</div>"
      ],
      "text/plain": [
       "Empty DataFrame\n",
       "Columns: [Date, cate]\n",
       "Index: []"
      ]
     },
     "execution_count": 34,
     "metadata": {},
     "output_type": "execute_result"
    }
   ],
   "source": [
    "dayofweek = [0,1,2,3,4]\n",
    "\n",
    "stockB=pd.date_range('2002-01-01','2022-12-05' , freq='B')\n",
    "\n",
    "stockD=stockdata.query('Date.dt.dayofweek in @stockB')\n",
    "stockD\n",
    "for i in range(len(stockD)):\n",
    "    "
   ]
  },
  {
   "cell_type": "code",
   "execution_count": 11,
   "metadata": {},
   "outputs": [
    {
     "name": "stdout",
     "output_type": "stream",
     "text": [
      "There are 3732 observations in the training data\n",
      "There are 1504 observations in the test data\n"
     ]
    },
    {
     "data": {
      "text/html": [
       "<div>\n",
       "<style scoped>\n",
       "    .dataframe tbody tr th:only-of-type {\n",
       "        vertical-align: middle;\n",
       "    }\n",
       "\n",
       "    .dataframe tbody tr th {\n",
       "        vertical-align: top;\n",
       "    }\n",
       "\n",
       "    .dataframe thead th {\n",
       "        text-align: right;\n",
       "    }\n",
       "</style>\n",
       "<table border=\"1\" class=\"dataframe\">\n",
       "  <thead>\n",
       "    <tr style=\"text-align: right;\">\n",
       "      <th></th>\n",
       "      <th>Open</th>\n",
       "      <th>High</th>\n",
       "      <th>Low</th>\n",
       "      <th>Close</th>\n",
       "      <th>Adj Close</th>\n",
       "      <th>Volume</th>\n",
       "    </tr>\n",
       "    <tr>\n",
       "      <th>Date</th>\n",
       "      <th></th>\n",
       "      <th></th>\n",
       "      <th></th>\n",
       "      <th></th>\n",
       "      <th></th>\n",
       "      <th></th>\n",
       "    </tr>\n",
       "  </thead>\n",
       "  <tbody>\n",
       "    <tr>\n",
       "      <th>2002-01-01</th>\n",
       "      <td>5580.0</td>\n",
       "      <td>5580.0</td>\n",
       "      <td>5580.0</td>\n",
       "      <td>5580.0</td>\n",
       "      <td>4193.600098</td>\n",
       "      <td>0</td>\n",
       "    </tr>\n",
       "    <tr>\n",
       "      <th>2002-01-02</th>\n",
       "      <td>5660.0</td>\n",
       "      <td>6160.0</td>\n",
       "      <td>5620.0</td>\n",
       "      <td>6160.0</td>\n",
       "      <td>4629.492676</td>\n",
       "      <td>57100000</td>\n",
       "    </tr>\n",
       "    <tr>\n",
       "      <th>2002-01-03</th>\n",
       "      <td>6160.0</td>\n",
       "      <td>6160.0</td>\n",
       "      <td>6160.0</td>\n",
       "      <td>6160.0</td>\n",
       "      <td>4629.492676</td>\n",
       "      <td>0</td>\n",
       "    </tr>\n",
       "    <tr>\n",
       "      <th>2002-01-04</th>\n",
       "      <td>6380.0</td>\n",
       "      <td>6410.0</td>\n",
       "      <td>6290.0</td>\n",
       "      <td>6380.0</td>\n",
       "      <td>4794.833008</td>\n",
       "      <td>50470000</td>\n",
       "    </tr>\n",
       "    <tr>\n",
       "      <th>2002-01-07</th>\n",
       "      <td>6260.0</td>\n",
       "      <td>6430.0</td>\n",
       "      <td>6170.0</td>\n",
       "      <td>6360.0</td>\n",
       "      <td>4779.799805</td>\n",
       "      <td>51455000</td>\n",
       "    </tr>\n",
       "    <tr>\n",
       "      <th>...</th>\n",
       "      <td>...</td>\n",
       "      <td>...</td>\n",
       "      <td>...</td>\n",
       "      <td>...</td>\n",
       "      <td>...</td>\n",
       "      <td>...</td>\n",
       "    </tr>\n",
       "    <tr>\n",
       "      <th>2022-12-01</th>\n",
       "      <td>63100.0</td>\n",
       "      <td>63200.0</td>\n",
       "      <td>62300.0</td>\n",
       "      <td>62600.0</td>\n",
       "      <td>62600.000000</td>\n",
       "      <td>16631445</td>\n",
       "    </tr>\n",
       "    <tr>\n",
       "      <th>2022-12-02</th>\n",
       "      <td>62500.0</td>\n",
       "      <td>62500.0</td>\n",
       "      <td>60400.0</td>\n",
       "      <td>60400.0</td>\n",
       "      <td>60400.000000</td>\n",
       "      <td>15331184</td>\n",
       "    </tr>\n",
       "    <tr>\n",
       "      <th>2022-12-05</th>\n",
       "      <td>60900.0</td>\n",
       "      <td>61100.0</td>\n",
       "      <td>60000.0</td>\n",
       "      <td>60300.0</td>\n",
       "      <td>60300.000000</td>\n",
       "      <td>13767787</td>\n",
       "    </tr>\n",
       "    <tr>\n",
       "      <th>2022-12-06</th>\n",
       "      <td>59800.0</td>\n",
       "      <td>60100.0</td>\n",
       "      <td>59200.0</td>\n",
       "      <td>59200.0</td>\n",
       "      <td>59200.000000</td>\n",
       "      <td>13888300</td>\n",
       "    </tr>\n",
       "    <tr>\n",
       "      <th>2022-12-07</th>\n",
       "      <td>58800.0</td>\n",
       "      <td>59600.0</td>\n",
       "      <td>58500.0</td>\n",
       "      <td>58900.0</td>\n",
       "      <td>58900.000000</td>\n",
       "      <td>12100662</td>\n",
       "    </tr>\n",
       "  </tbody>\n",
       "</table>\n",
       "<p>5236 rows × 6 columns</p>\n",
       "</div>"
      ],
      "text/plain": [
       "               Open     High      Low    Close     Adj Close    Volume\n",
       "Date                                                                  \n",
       "2002-01-01   5580.0   5580.0   5580.0   5580.0   4193.600098         0\n",
       "2002-01-02   5660.0   6160.0   5620.0   6160.0   4629.492676  57100000\n",
       "2002-01-03   6160.0   6160.0   6160.0   6160.0   4629.492676         0\n",
       "2002-01-04   6380.0   6410.0   6290.0   6380.0   4794.833008  50470000\n",
       "2002-01-07   6260.0   6430.0   6170.0   6360.0   4779.799805  51455000\n",
       "...             ...      ...      ...      ...           ...       ...\n",
       "2022-12-01  63100.0  63200.0  62300.0  62600.0  62600.000000  16631445\n",
       "2022-12-02  62500.0  62500.0  60400.0  60400.0  60400.000000  15331184\n",
       "2022-12-05  60900.0  61100.0  60000.0  60300.0  60300.000000  13767787\n",
       "2022-12-06  59800.0  60100.0  59200.0  59200.0  59200.000000  13888300\n",
       "2022-12-07  58800.0  59600.0  58500.0  58900.0  58900.000000  12100662\n",
       "\n",
       "[5236 rows x 6 columns]"
      ]
     },
     "execution_count": 11,
     "metadata": {},
     "output_type": "execute_result"
    }
   ],
   "source": [
    "SAMSUNG = yf.download('005930.KS', \n",
    "                      start='2002-01-01', \n",
    "                      end='2022-12-08', \n",
    "                      progress=False)\n",
    "all_data = SAMSUNG[['Adj Close','Open', 'High', 'Low', 'Close', 'Volume']].round(2)\n",
    "all_data.head(10)\n",
    "print(\"There are \"+ str(all_data[:'2016-10-21'].shape[0]) + \" observations in the training data\")\n",
    "print(\"There are \"+ str(all_data['2016-10-22':].shape[0]) + \" observations in the test data\")\n",
    "all_data['Adj Close'].plot()\n",
    "\n"
   ]
  },
  {
   "cell_type": "code",
   "execution_count": 5,
   "metadata": {},
   "outputs": [],
   "source": [
    "def actual_pred_plot(preds):\n",
    "    actual_pred = pd.DataFrame(columns = ['Adj. Close', 'prediction'])\n",
    "    actual_pred['Adj. Close'] = all_data.loc['2016-10-21':,'Adj Close'][0:len(preds)]\n",
    "    actual_pred['prediction'] = preds[:,0]\n",
    "\n",
    "    m = MeanSquaredError()\n",
    "    m.update_state(np.array(actual_pred['Adj. Close']),np.array(actual_pred['prediction']))\n",
    "    \n",
    "    return (m.result().numpy(), actual_pred.plot() )"
   ]
  },
  {
   "cell_type": "code",
   "execution_count": 6,
   "metadata": {},
   "outputs": [],
   "source": [
    "def ts_train_test_normalize(all_data,time_steps,for_periods):\n",
    "\n",
    "    # create training and test set\n",
    "    ts_train = all_data[:'2016-10-20'].iloc[:,0:1].values\n",
    "    ts_test  = all_data['2016-10-21':].iloc[:,0:1].values\n",
    "    ts_train_len = len(ts_train)\n",
    "    ts_test_len = len(ts_test)\n",
    " \n",
    "    # scale the data\n",
    "    sc = MinMaxScaler(feature_range=(0,1))\n",
    "    ts_train_scaled = sc.fit_transform(ts_train)\n",
    "\n",
    "    # create training data of s samples and t time steps\n",
    "    X_train = []\n",
    "    y_train = []\n",
    "    y_train_stacked = []\n",
    "    for i in range(time_steps,ts_train_len-1): \n",
    "        X_train.append(ts_train_scaled[i-time_steps:i,0])\n",
    "        y_train.append(ts_train_scaled[i:i+for_periods,0])\n",
    "    X_train = np.array(X_train) \n",
    "    y_train = np.array(y_train) \n",
    "\n",
    "    # Reshaping X_train for efficient modelling\n",
    "    X_train = np.reshape(X_train, (X_train.shape[0],X_train.shape[1],1))\n",
    "\n",
    "    inputs = pd.concat((all_data[\"Adj Close\"][:'2016-10-20'], all_data[\"Adj Close\"]['2016-10-21':]),axis=0).values\n",
    "    inputs = inputs[len(inputs)-len(ts_test) - time_steps:]\n",
    "    inputs = inputs.reshape(-1,1)\n",
    "    inputs  = sc.transform(inputs)\n",
    "\n",
    "    # Preparing X_test\n",
    "    X_test = []\n",
    "    for i in range(time_steps,ts_test_len+time_steps-for_periods):\n",
    "        X_test.append(inputs[i-time_steps:i,0])\n",
    "    X_test = np.array(X_test)\n",
    "    X_test = np.reshape(X_test, (X_test.shape[0],X_test.shape[1],1))\n",
    "\n",
    "    return X_train, y_train , X_test, sc"
   ]
  },
  {
   "cell_type": "code",
   "execution_count": 7,
   "metadata": {},
   "outputs": [
    {
     "name": "stdout",
     "output_type": "stream",
     "text": [
      "There are 3700 samples in the training data\n",
      "There are 1502 samples in the test data\n"
     ]
    }
   ],
   "source": [
    "X_train, Y_train, X_test, sc = ts_train_test_normalize(all_data,30,3)\n",
    "\n",
    "X_train_see= pd.DataFrame(np.reshape(X_train, (X_train.shape[0], X_train.shape[1])))\n",
    "Y_train_see= pd.DataFrame(Y_train)\n",
    "print(\"There are \" + str(X_train.shape[0]) + \" samples in the training data\")\n",
    "print(\"There are \" + str(X_test.shape[0]) + \" samples in the test data\")\n",
    "pd.concat([Y_train_see])\n",
    "Y_train[3699]=np.append(Y_train[3699],0.0)\n",
    "\n"
   ]
  },
  {
   "cell_type": "code",
   "execution_count": 8,
   "metadata": {},
   "outputs": [
    {
     "name": "stdout",
     "output_type": "stream",
     "text": [
      "(3700, 30, 1)\n",
      "(3700,)\n",
      "(1502, 30, 1)\n",
      "float64\n",
      "float64\n",
      "float64\n"
     ]
    }
   ],
   "source": [
    "print(X_train.shape)\n",
    "print(Y_train.shape)\n",
    "print(X_test.shape)\n",
    "for i in range(len(X_train)):\n",
    "    if len(X_train[i]) != 30:\n",
    "        print(len(i))\n",
    "        \n",
    "for i in range(len(Y_train)):\n",
    "    if len(Y_train[i]) != 3:\n",
    "        print(len(i))\n",
    "        \n",
    "for i in range(len(X_test)):\n",
    "    if len(X_test[i]) != 30:\n",
    "        print(len(i))\n",
    "Y_train = np.array([np.array(val) for val in Y_train])       \n",
    "print(X_train.dtype)\n",
    "print(Y_train.dtype)\n",
    "print(X_test.dtype)\n",
    "    "
   ]
  },
  {
   "cell_type": "code",
   "execution_count": 15,
   "metadata": {},
   "outputs": [
    {
     "name": "stdout",
     "output_type": "stream",
     "text": [
      "47/47 [==============================] - 1s 7ms/step\n"
     ]
    },
    {
     "data": {
      "text/plain": [
       "(29319466.0, <AxesSubplot:xlabel='Date'>)"
      ]
     },
     "execution_count": 15,
     "metadata": {},
     "output_type": "execute_result"
    },
    {
     "data": {
      "image/png": "[encoded data removed]",
      "text/plain": [
       "<Figure size 432x288 with 1 Axes>"
      ]
     },
     "metadata": {
      "needs_background": "light"
     },
     "output_type": "display_data"
    }
   ],
   "source": [
    "def LSTM_model_regularization(X_train, y_train, X_test, sc):\n",
    "    # create a model\n",
    "    from keras.models import Sequential\n",
    "    from keras.layers import Dense, SimpleRNN, GRU, LSTM, Dropout\n",
    "    from keras.optimizers import SGD\n",
    "    \n",
    "    # The LSTM architecture\n",
    "    my_LSTM_model = Sequential()\n",
    "    my_LSTM_model.add(LSTM(units=50, return_sequences=True, input_shape=(X_train.shape[1],1), activation='relu'))\n",
    "    #my_LSTM_model.add(LSTM(units=50, return_sequences=True, input_shape=(X_train.shape[1],1), activation='tanh'))\n",
    "    my_LSTM_model.add(LSTM(units=50, return_sequences=True, input_shape=(X_train.shape[1],1), activation='relu'))\n",
    "    my_LSTM_model.add(LSTM(units=50, activation='tanh'))\n",
    "    my_LSTM_model.add(Dropout(0.2))\n",
    "    my_LSTM_model.add(Dense(units=3))\n",
    "\n",
    "    # Compiling\n",
    "    my_LSTM_model.compile(optimizer=SGD(lr=0.01, decay=1e-7, momentum=0.9, nesterov=False),loss='mean_squared_error')\n",
    "    # Fitting to the training set\n",
    "    my_LSTM_model.fit(X_train,y_train,epochs=100,batch_size=50, verbose=0)\n",
    "\n",
    "    LSTM_prediction = my_LSTM_model.predict(X_test)\n",
    "    LSTM_prediction = sc.inverse_transform(LSTM_prediction)\n",
    "\n",
    "    return my_LSTM_model, LSTM_prediction\n",
    "\n",
    "my_LSTM_model, LSTM_prediction = LSTM_model_regularization(X_train, Y_train, X_test, sc)\n",
    "LSTM_prediction[1:10]\n",
    "actual_pred_plot(LSTM_prediction)  "
   ]
  },
  {
   "cell_type": "code",
   "execution_count": 10,
   "metadata": {},
   "outputs": [],
   "source": [
    "# def LSTM_model_regularization(X_train, y_train, X_test, sc):\n",
    "\n",
    "#     # The LSTM architecture\n",
    "#     my_LSTM_model = Sequential()\n",
    "#     my_LSTM_model.add(LSTM(units=64, return_sequences=True, input_shape=(X_train.shape[1],1), activation='tanh'))\n",
    "#     my_LSTM_model.add(LSTM(units=32, return_sequences=True, input_shape=(X_train.shape[1],1), activation='tanh'))\n",
    "#     my_LSTM_model.add(LSTM(units=50, activation='tanh'))\n",
    "#     my_LSTM_model.add(Dropout(0.2))\n",
    "#     my_LSTM_model.add(Dense(units=3, activation='tanh'))\n",
    "    \n",
    "#     # Compiling\n",
    "#     my_LSTM_model.compile(optimizer=SGD(lr=0.01, decay=1e-7, momentum=0.9, nesterov=False),loss='mean_squared_error')\n",
    "#     # Fitting to the training set\n",
    "#     my_LSTM_model.fit(X_train,y_train,epochs=50,batch_size=150, verbose=0)\n",
    "\n",
    "#     LSTM_prediction = my_LSTM_model.predict(X_test)\n",
    "#     LSTM_prediction = sc.inverse_transform(LSTM_prediction)\n",
    "\n",
    "#     return my_LSTM_model, LSTM_prediction\n",
    "\n",
    "# my_LSTM_model, LSTM_prediction = LSTM_model_regularization(X_train, Y_train, X_test, sc)\n",
    "# LSTM_prediction[1:10]\n",
    "# actual_pred_plot(LSTM_prediction)  "
   ]
  },
  {
   "cell_type": "code",
   "execution_count": 18,
   "metadata": {},
   "outputs": [
    {
     "data": {
      "text/plain": [
       "array([[26954.963, 26856.56 , 26868.863],\n",
       "       [26942.326, 26843.756, 26857.684],\n",
       "       [26933.498, 26834.691, 26849.562],\n",
       "       ...,\n",
       "       [56691.92 , 54344.797, 54672.816],\n",
       "       [56711.926, 54359.996, 54694.156],\n",
       "       [56741.164, 54381.066, 54719.98 ]], dtype=float32)"
      ]
     },
     "execution_count": 18,
     "metadata": {},
     "output_type": "execute_result"
    }
   ],
   "source": [
    "LSTM_prediction"
   ]
  },
  {
   "cell_type": "code",
   "execution_count": 16,
   "metadata": {},
   "outputs": [],
   "source": [
    "import numpy as np\n",
    "\n",
    "def MAE(true, pred):\n",
    "    return np.mean(np.abs(true-pred))\n",
    "\n",
    "def MAPE(true, pred):\n",
    "    return np.mean(np.abs((true-pred)/true))\n",
    "\n",
    "def SMAPE(true, pred):\n",
    "    return np.mean((np.abs(true-pred))/(np.abs(true) + np.abs(pred)))\n",
    "\n",
    "def MSE(true, pred):\n",
    "    return np.mean(np.square(true-pred))"
   ]
  },
  {
   "cell_type": "code",
   "execution_count": 17,
   "metadata": {},
   "outputs": [
    {
     "name": "stdout",
     "output_type": "stream",
     "text": [
      "RMSE =  26891.56\n",
      "MAE =  26891.53\n",
      "MAPE =  15343.62\n",
      "SMAPE =  1.00\n"
     ]
    }
   ],
   "source": [
    "RMSE_value= \"{:.2f}\".format(np.sqrt(MSE(X_test, LSTM_prediction[0][:])))\n",
    "print(\"RMSE = \",RMSE_value)\n",
    "\n",
    "MAE_value= \"{:.2f}\".format(MAE(X_test, LSTM_prediction[0][:]))\n",
    "print(\"MAE = \",MAE_value)\n",
    "\n",
    "MAPE_value= \"{:.2f}\".format(MAPE(X_test, LSTM_prediction[0][:]))\n",
    "print(\"MAPE = \",MAPE_value)\n",
    "\n",
    "SMAPE_value= \"{:.2f}\".format(SMAPE(X_test, LSTM_prediction[0][:]))\n",
    "print(\"SMAPE = \",SMAPE_value)"
   ]
  },
  {
   "cell_type": "code",
   "execution_count": null,
   "metadata": {},
   "outputs": [],
   "source": []
  }
 ],
 "metadata": {
  "kernelspec": {
   "display_name": "Python 3.9.12 ('base')",
   "language": "python",
   "name": "python3"
  },
  "language_info": {
   "codemirror_mode": {
    "name": "ipython",
    "version": 3
   },
   "file_extension": ".py",
   "mimetype": "text/x-python",
   "name": "python",
   "nbconvert_exporter": "python",
   "pygments_lexer": "ipython3",
   "version": "3.9.12"
  },
  "orig_nbformat": 4,
  "vscode": {
   "interpreter": {
    "hash": "ad2bdc8ecc057115af97d19610ffacc2b4e99fae6737bb82f5d7fb13d2f2c186"
   }
  }
 },
 "nbformat": 4,
 "nbformat_minor": 2
}
